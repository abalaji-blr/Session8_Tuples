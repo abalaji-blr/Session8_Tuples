{
  "nbformat": 4,
  "nbformat_minor": 0,
  "metadata": {
    "colab": {
      "name": "EPAi4_Session8_Tuples.ipynb",
      "provenance": [],
      "collapsed_sections": [],
      "authorship_tag": "ABX9TyMlb9mMY2NxkdfgsCSTf2Wm",
      "include_colab_link": true
    },
    "kernelspec": {
      "name": "python3",
      "display_name": "Python 3"
    },
    "language_info": {
      "name": "python"
    }
  },
  "cells": [
    {
      "cell_type": "markdown",
      "metadata": {
        "id": "view-in-github",
        "colab_type": "text"
      },
      "source": [
        "<a href=\"https://colab.research.google.com/github/abalaji-blr/Session8_Tuples/blob/main/EPAi4_Session8_Tuples.ipynb\" target=\"_parent\"><img src=\"https://colab.research.google.com/assets/colab-badge.svg\" alt=\"Open In Colab\"/></a>"
      ]
    },
    {
      "cell_type": "markdown",
      "metadata": {
        "id": "yuRouuuiShnq"
      },
      "source": [
        "# Namedtuples and Faker Library"
      ]
    },
    {
      "cell_type": "markdown",
      "metadata": {
        "id": "wgnz-ui7So2F"
      },
      "source": [
        "## Install Faker library"
      ]
    },
    {
      "cell_type": "code",
      "metadata": {
        "colab": {
          "base_uri": "https://localhost:8080/"
        },
        "id": "VRbjeEDCSa59",
        "outputId": "98ccc469-f97c-433e-db75-5b5340e58fb9"
      },
      "source": [
        "!pip install faker"
      ],
      "execution_count": 1,
      "outputs": [
        {
          "output_type": "stream",
          "name": "stdout",
          "text": [
            "Collecting faker\n",
            "  Downloading Faker-9.9.0-py3-none-any.whl (1.2 MB)\n",
            "\u001b[?25l\r\u001b[K     |▎                               | 10 kB 23.0 MB/s eta 0:00:01\r\u001b[K     |▌                               | 20 kB 29.7 MB/s eta 0:00:01\r\u001b[K     |▉                               | 30 kB 22.1 MB/s eta 0:00:01\r\u001b[K     |█                               | 40 kB 17.1 MB/s eta 0:00:01\r\u001b[K     |█▍                              | 51 kB 5.4 MB/s eta 0:00:01\r\u001b[K     |█▋                              | 61 kB 5.9 MB/s eta 0:00:01\r\u001b[K     |█▉                              | 71 kB 5.4 MB/s eta 0:00:01\r\u001b[K     |██▏                             | 81 kB 6.1 MB/s eta 0:00:01\r\u001b[K     |██▍                             | 92 kB 6.0 MB/s eta 0:00:01\r\u001b[K     |██▊                             | 102 kB 5.2 MB/s eta 0:00:01\r\u001b[K     |███                             | 112 kB 5.2 MB/s eta 0:00:01\r\u001b[K     |███▏                            | 122 kB 5.2 MB/s eta 0:00:01\r\u001b[K     |███▌                            | 133 kB 5.2 MB/s eta 0:00:01\r\u001b[K     |███▊                            | 143 kB 5.2 MB/s eta 0:00:01\r\u001b[K     |████                            | 153 kB 5.2 MB/s eta 0:00:01\r\u001b[K     |████▎                           | 163 kB 5.2 MB/s eta 0:00:01\r\u001b[K     |████▌                           | 174 kB 5.2 MB/s eta 0:00:01\r\u001b[K     |████▉                           | 184 kB 5.2 MB/s eta 0:00:01\r\u001b[K     |█████                           | 194 kB 5.2 MB/s eta 0:00:01\r\u001b[K     |█████▍                          | 204 kB 5.2 MB/s eta 0:00:01\r\u001b[K     |█████▋                          | 215 kB 5.2 MB/s eta 0:00:01\r\u001b[K     |█████▉                          | 225 kB 5.2 MB/s eta 0:00:01\r\u001b[K     |██████▏                         | 235 kB 5.2 MB/s eta 0:00:01\r\u001b[K     |██████▍                         | 245 kB 5.2 MB/s eta 0:00:01\r\u001b[K     |██████▊                         | 256 kB 5.2 MB/s eta 0:00:01\r\u001b[K     |███████                         | 266 kB 5.2 MB/s eta 0:00:01\r\u001b[K     |███████▎                        | 276 kB 5.2 MB/s eta 0:00:01\r\u001b[K     |███████▌                        | 286 kB 5.2 MB/s eta 0:00:01\r\u001b[K     |███████▊                        | 296 kB 5.2 MB/s eta 0:00:01\r\u001b[K     |████████                        | 307 kB 5.2 MB/s eta 0:00:01\r\u001b[K     |████████▎                       | 317 kB 5.2 MB/s eta 0:00:01\r\u001b[K     |████████▋                       | 327 kB 5.2 MB/s eta 0:00:01\r\u001b[K     |████████▉                       | 337 kB 5.2 MB/s eta 0:00:01\r\u001b[K     |█████████                       | 348 kB 5.2 MB/s eta 0:00:01\r\u001b[K     |█████████▍                      | 358 kB 5.2 MB/s eta 0:00:01\r\u001b[K     |█████████▋                      | 368 kB 5.2 MB/s eta 0:00:01\r\u001b[K     |██████████                      | 378 kB 5.2 MB/s eta 0:00:01\r\u001b[K     |██████████▏                     | 389 kB 5.2 MB/s eta 0:00:01\r\u001b[K     |██████████▍                     | 399 kB 5.2 MB/s eta 0:00:01\r\u001b[K     |██████████▊                     | 409 kB 5.2 MB/s eta 0:00:01\r\u001b[K     |███████████                     | 419 kB 5.2 MB/s eta 0:00:01\r\u001b[K     |███████████▎                    | 430 kB 5.2 MB/s eta 0:00:01\r\u001b[K     |███████████▌                    | 440 kB 5.2 MB/s eta 0:00:01\r\u001b[K     |███████████▊                    | 450 kB 5.2 MB/s eta 0:00:01\r\u001b[K     |████████████                    | 460 kB 5.2 MB/s eta 0:00:01\r\u001b[K     |████████████▎                   | 471 kB 5.2 MB/s eta 0:00:01\r\u001b[K     |████████████▋                   | 481 kB 5.2 MB/s eta 0:00:01\r\u001b[K     |████████████▉                   | 491 kB 5.2 MB/s eta 0:00:01\r\u001b[K     |█████████████                   | 501 kB 5.2 MB/s eta 0:00:01\r\u001b[K     |█████████████▍                  | 512 kB 5.2 MB/s eta 0:00:01\r\u001b[K     |█████████████▋                  | 522 kB 5.2 MB/s eta 0:00:01\r\u001b[K     |██████████████                  | 532 kB 5.2 MB/s eta 0:00:01\r\u001b[K     |██████████████▏                 | 542 kB 5.2 MB/s eta 0:00:01\r\u001b[K     |██████████████▌                 | 552 kB 5.2 MB/s eta 0:00:01\r\u001b[K     |██████████████▊                 | 563 kB 5.2 MB/s eta 0:00:01\r\u001b[K     |███████████████                 | 573 kB 5.2 MB/s eta 0:00:01\r\u001b[K     |███████████████▎                | 583 kB 5.2 MB/s eta 0:00:01\r\u001b[K     |███████████████▌                | 593 kB 5.2 MB/s eta 0:00:01\r\u001b[K     |███████████████▉                | 604 kB 5.2 MB/s eta 0:00:01\r\u001b[K     |████████████████                | 614 kB 5.2 MB/s eta 0:00:01\r\u001b[K     |████████████████▎               | 624 kB 5.2 MB/s eta 0:00:01\r\u001b[K     |████████████████▋               | 634 kB 5.2 MB/s eta 0:00:01\r\u001b[K     |████████████████▉               | 645 kB 5.2 MB/s eta 0:00:01\r\u001b[K     |█████████████████▏              | 655 kB 5.2 MB/s eta 0:00:01\r\u001b[K     |█████████████████▍              | 665 kB 5.2 MB/s eta 0:00:01\r\u001b[K     |█████████████████▋              | 675 kB 5.2 MB/s eta 0:00:01\r\u001b[K     |██████████████████              | 686 kB 5.2 MB/s eta 0:00:01\r\u001b[K     |██████████████████▏             | 696 kB 5.2 MB/s eta 0:00:01\r\u001b[K     |██████████████████▌             | 706 kB 5.2 MB/s eta 0:00:01\r\u001b[K     |██████████████████▊             | 716 kB 5.2 MB/s eta 0:00:01\r\u001b[K     |███████████████████             | 727 kB 5.2 MB/s eta 0:00:01\r\u001b[K     |███████████████████▎            | 737 kB 5.2 MB/s eta 0:00:01\r\u001b[K     |███████████████████▌            | 747 kB 5.2 MB/s eta 0:00:01\r\u001b[K     |███████████████████▉            | 757 kB 5.2 MB/s eta 0:00:01\r\u001b[K     |████████████████████            | 768 kB 5.2 MB/s eta 0:00:01\r\u001b[K     |████████████████████▍           | 778 kB 5.2 MB/s eta 0:00:01\r\u001b[K     |████████████████████▋           | 788 kB 5.2 MB/s eta 0:00:01\r\u001b[K     |████████████████████▉           | 798 kB 5.2 MB/s eta 0:00:01\r\u001b[K     |█████████████████████▏          | 808 kB 5.2 MB/s eta 0:00:01\r\u001b[K     |█████████████████████▍          | 819 kB 5.2 MB/s eta 0:00:01\r\u001b[K     |█████████████████████▊          | 829 kB 5.2 MB/s eta 0:00:01\r\u001b[K     |██████████████████████          | 839 kB 5.2 MB/s eta 0:00:01\r\u001b[K     |██████████████████████▏         | 849 kB 5.2 MB/s eta 0:00:01\r\u001b[K     |██████████████████████▌         | 860 kB 5.2 MB/s eta 0:00:01\r\u001b[K     |██████████████████████▊         | 870 kB 5.2 MB/s eta 0:00:01\r\u001b[K     |███████████████████████         | 880 kB 5.2 MB/s eta 0:00:01\r\u001b[K     |███████████████████████▎        | 890 kB 5.2 MB/s eta 0:00:01\r\u001b[K     |███████████████████████▌        | 901 kB 5.2 MB/s eta 0:00:01\r\u001b[K     |███████████████████████▉        | 911 kB 5.2 MB/s eta 0:00:01\r\u001b[K     |████████████████████████        | 921 kB 5.2 MB/s eta 0:00:01\r\u001b[K     |████████████████████████▍       | 931 kB 5.2 MB/s eta 0:00:01\r\u001b[K     |████████████████████████▋       | 942 kB 5.2 MB/s eta 0:00:01\r\u001b[K     |████████████████████████▉       | 952 kB 5.2 MB/s eta 0:00:01\r\u001b[K     |█████████████████████████▏      | 962 kB 5.2 MB/s eta 0:00:01\r\u001b[K     |█████████████████████████▍      | 972 kB 5.2 MB/s eta 0:00:01\r\u001b[K     |█████████████████████████▊      | 983 kB 5.2 MB/s eta 0:00:01\r\u001b[K     |██████████████████████████      | 993 kB 5.2 MB/s eta 0:00:01\r\u001b[K     |██████████████████████████▏     | 1.0 MB 5.2 MB/s eta 0:00:01\r\u001b[K     |██████████████████████████▌     | 1.0 MB 5.2 MB/s eta 0:00:01\r\u001b[K     |██████████████████████████▊     | 1.0 MB 5.2 MB/s eta 0:00:01\r\u001b[K     |███████████████████████████     | 1.0 MB 5.2 MB/s eta 0:00:01\r\u001b[K     |███████████████████████████▎    | 1.0 MB 5.2 MB/s eta 0:00:01\r\u001b[K     |███████████████████████████▋    | 1.1 MB 5.2 MB/s eta 0:00:01\r\u001b[K     |███████████████████████████▉    | 1.1 MB 5.2 MB/s eta 0:00:01\r\u001b[K     |████████████████████████████    | 1.1 MB 5.2 MB/s eta 0:00:01\r\u001b[K     |████████████████████████████▍   | 1.1 MB 5.2 MB/s eta 0:00:01\r\u001b[K     |████████████████████████████▋   | 1.1 MB 5.2 MB/s eta 0:00:01\r\u001b[K     |█████████████████████████████   | 1.1 MB 5.2 MB/s eta 0:00:01\r\u001b[K     |█████████████████████████████▏  | 1.1 MB 5.2 MB/s eta 0:00:01\r\u001b[K     |█████████████████████████████▍  | 1.1 MB 5.2 MB/s eta 0:00:01\r\u001b[K     |█████████████████████████████▊  | 1.1 MB 5.2 MB/s eta 0:00:01\r\u001b[K     |██████████████████████████████  | 1.1 MB 5.2 MB/s eta 0:00:01\r\u001b[K     |██████████████████████████████▎ | 1.2 MB 5.2 MB/s eta 0:00:01\r\u001b[K     |██████████████████████████████▌ | 1.2 MB 5.2 MB/s eta 0:00:01\r\u001b[K     |██████████████████████████████▊ | 1.2 MB 5.2 MB/s eta 0:00:01\r\u001b[K     |███████████████████████████████ | 1.2 MB 5.2 MB/s eta 0:00:01\r\u001b[K     |███████████████████████████████▎| 1.2 MB 5.2 MB/s eta 0:00:01\r\u001b[K     |███████████████████████████████▋| 1.2 MB 5.2 MB/s eta 0:00:01\r\u001b[K     |███████████████████████████████▉| 1.2 MB 5.2 MB/s eta 0:00:01\r\u001b[K     |████████████████████████████████| 1.2 MB 5.2 MB/s \n",
            "\u001b[?25hRequirement already satisfied: typing-extensions>=3.10.0.2 in /usr/local/lib/python3.7/dist-packages (from faker) (3.10.0.2)\n",
            "Requirement already satisfied: python-dateutil>=2.4 in /usr/local/lib/python3.7/dist-packages (from faker) (2.8.2)\n",
            "Requirement already satisfied: text-unidecode==1.3 in /usr/local/lib/python3.7/dist-packages (from faker) (1.3)\n",
            "Requirement already satisfied: six>=1.5 in /usr/local/lib/python3.7/dist-packages (from python-dateutil>=2.4->faker) (1.15.0)\n",
            "Installing collected packages: faker\n",
            "Successfully installed faker-9.9.0\n"
          ]
        }
      ]
    },
    {
      "cell_type": "markdown",
      "metadata": {
        "id": "VaqtoMtqS9-O"
      },
      "source": [
        "## Import libraries"
      ]
    },
    {
      "cell_type": "code",
      "metadata": {
        "id": "pO1lk5BXS01x"
      },
      "source": [
        "from faker import Faker\n",
        "from collections import namedtuple\n",
        "from functools import wraps\n",
        "import datetime, time\n",
        "import random"
      ],
      "execution_count": 2,
      "outputs": []
    },
    {
      "cell_type": "markdown",
      "metadata": {
        "id": "Qx_V0WNVTGCn"
      },
      "source": [
        "## Examine Faker library"
      ]
    },
    {
      "cell_type": "code",
      "metadata": {
        "id": "8fpJ3rPiTJR4"
      },
      "source": [
        "fake = Faker()"
      ],
      "execution_count": 3,
      "outputs": []
    },
    {
      "cell_type": "code",
      "metadata": {
        "colab": {
          "base_uri": "https://localhost:8080/"
        },
        "id": "PWhdfxAMTlYx",
        "outputId": "48669875-4efd-45a2-8ec8-835ccf68709b"
      },
      "source": [
        "fake.profile()"
      ],
      "execution_count": 4,
      "outputs": [
        {
          "output_type": "execute_result",
          "data": {
            "text/plain": [
              "{'address': '421 Meadows Creek\\nHarrisonburgh, WA 77111',\n",
              " 'birthdate': datetime.date(1922, 11, 8),\n",
              " 'blood_group': 'A+',\n",
              " 'company': 'Hale LLC',\n",
              " 'current_location': (Decimal('-29.252397'), Decimal('-45.518231')),\n",
              " 'job': 'Gaffer',\n",
              " 'mail': 'katherinewagner@yahoo.com',\n",
              " 'name': 'Mr. Aaron Kelly MD',\n",
              " 'residence': '4373 Louis Path\\nButlerport, HI 24175',\n",
              " 'sex': 'M',\n",
              " 'ssn': '081-91-9728',\n",
              " 'username': 'gregorydunn',\n",
              " 'website': ['http://www.randolph-herrera.com/']}"
            ]
          },
          "metadata": {},
          "execution_count": 4
        }
      ]
    },
    {
      "cell_type": "code",
      "metadata": {
        "colab": {
          "base_uri": "https://localhost:8080/"
        },
        "id": "ukDICahATr4h",
        "outputId": "196c0bda-3715-4c14-86e8-4ae5e5041138"
      },
      "source": [
        "fake.profile().keys()"
      ],
      "execution_count": 5,
      "outputs": [
        {
          "output_type": "execute_result",
          "data": {
            "text/plain": [
              "dict_keys(['job', 'company', 'ssn', 'residence', 'current_location', 'blood_group', 'website', 'username', 'name', 'sex', 'address', 'mail', 'birthdate'])"
            ]
          },
          "metadata": {},
          "execution_count": 5
        }
      ]
    },
    {
      "cell_type": "markdown",
      "metadata": {
        "id": "NTbRCtUSUkbJ"
      },
      "source": [
        "## Fake.profile() and Namedtuple"
      ]
    },
    {
      "cell_type": "code",
      "metadata": {
        "id": "bwJD_wgAUUMq"
      },
      "source": [
        "Profile = namedtuple('Profile', fake.profile().keys())"
      ],
      "execution_count": 6,
      "outputs": []
    },
    {
      "cell_type": "code",
      "metadata": {
        "colab": {
          "base_uri": "https://localhost:8080/"
        },
        "id": "8XfIRo2pUwy2",
        "outputId": "1ad2c0bb-47b7-48a8-a31d-9ac0e45fbc4b"
      },
      "source": [
        "Profile._fields"
      ],
      "execution_count": 7,
      "outputs": [
        {
          "output_type": "execute_result",
          "data": {
            "text/plain": [
              "('job',\n",
              " 'company',\n",
              " 'ssn',\n",
              " 'residence',\n",
              " 'current_location',\n",
              " 'blood_group',\n",
              " 'website',\n",
              " 'username',\n",
              " 'name',\n",
              " 'sex',\n",
              " 'address',\n",
              " 'mail',\n",
              " 'birthdate')"
            ]
          },
          "metadata": {},
          "execution_count": 7
        }
      ]
    },
    {
      "cell_type": "code",
      "metadata": {
        "id": "AWDxfQZWU4ti"
      },
      "source": [
        "p1 = Profile(**fake.profile())"
      ],
      "execution_count": 8,
      "outputs": []
    },
    {
      "cell_type": "code",
      "metadata": {
        "colab": {
          "base_uri": "https://localhost:8080/"
        },
        "id": "OngfTBnCWuB-",
        "outputId": "2a6ad4da-b6e3-4f98-ddbd-d1d756edb8ca"
      },
      "source": [
        "p1"
      ],
      "execution_count": 9,
      "outputs": [
        {
          "output_type": "execute_result",
          "data": {
            "text/plain": [
              "Profile(job='Sports development officer', company='Dennis, French and Phillips', ssn='662-44-0088', residence='947 Jackson Forest Suite 011\\nRickyfort, AZ 13338', current_location=(Decimal('-62.409685'), Decimal('171.134372')), blood_group='AB-', website=['http://terry.com/', 'http://www.johnson.org/', 'http://www.peters.biz/'], username='grosssheila', name='Shaun Castillo', sex='M', address='31364 Watkins View Suite 629\\nLake Jamesfurt, GA 64774', mail='andrew02@hotmail.com', birthdate=datetime.date(1959, 7, 13))"
            ]
          },
          "metadata": {},
          "execution_count": 9
        }
      ]
    },
    {
      "cell_type": "code",
      "metadata": {
        "id": "dlTqyaNpWut1"
      },
      "source": [
        "fake = Faker()\n",
        "\n",
        "def gen_profile_dataset(num_entries : int) -> 'dataset in namedtuple':\n",
        "  '''\n",
        "  Generate the profile dataset. The size of the dataset depends on the\n",
        "  num_entries.\n",
        "\n",
        "  Input: num_entries\n",
        "  Output: dataset ( list of namedtuple of profile)\n",
        "  '''\n",
        "  result = []\n",
        "  Profile = namedtuple('Profile', fake.profile().keys())\n",
        "  for cnt in range(num_entries):\n",
        "    # build namedtuple from the dictionary\n",
        "    result.append(Profile(**fake.profile()))\n",
        "  return result"
      ],
      "execution_count": 10,
      "outputs": []
    },
    {
      "cell_type": "code",
      "metadata": {
        "id": "SiJi0UT85R_P"
      },
      "source": [
        "p = gen_profile_dataset(10)"
      ],
      "execution_count": 11,
      "outputs": []
    },
    {
      "cell_type": "code",
      "metadata": {
        "colab": {
          "base_uri": "https://localhost:8080/"
        },
        "id": "ZovUaMQP6edn",
        "outputId": "b1eeb73d-dffa-4db6-9162-1f6ac1ecde45"
      },
      "source": [
        "p[0:2]"
      ],
      "execution_count": 12,
      "outputs": [
        {
          "output_type": "execute_result",
          "data": {
            "text/plain": [
              "[Profile(job='Herbalist', company='Evans, Graham and Santos', ssn='323-42-1483', residence='08648 Danny Viaduct Suite 897\\nSouth Yolanda, PA 68254', current_location=(Decimal('-7.883572'), Decimal('62.644162')), blood_group='AB-', website=['https://fleming.info/', 'http://www.morris.biz/', 'https://willis.com/', 'http://www.johnson.info/'], username='thompsontimothy', name='Gail Krause', sex='F', address='7785 Rocha Camp Suite 672\\nBarreraview, LA 18399', mail='patelchristina@yahoo.com', birthdate=datetime.date(2011, 9, 28)),\n",
              " Profile(job='Psychologist, occupational', company='Anderson, Bailey and Harding', ssn='335-96-0852', residence='Unit 3470 Box 8147\\nDPO AP 40165', current_location=(Decimal('11.0372295'), Decimal('-133.801037')), blood_group='AB+', website=['https://allen-cruz.com/'], username='khill', name='Amy Johnson', sex='F', address='0721 Austin Mill\\nLake Adam, ME 32213', mail='jjohnson@gmail.com', birthdate=datetime.date(1951, 2, 12))]"
            ]
          },
          "metadata": {},
          "execution_count": 12
        }
      ]
    },
    {
      "cell_type": "code",
      "metadata": {
        "id": "Sb7tQp742-RC"
      },
      "source": [
        "# build a custom decorator to measure the time consumed.\n",
        "# define timed decorator\n",
        "def timed(fn):\n",
        "  '''\n",
        "  Decorator to measure the time consumed.\n",
        "  '''\n",
        "  @wraps(fn)\n",
        "  def inner(*args, **kwargs):\n",
        "    '''\n",
        "    Closure function for the timed decorator.\n",
        "    '''\n",
        "    start = time.perf_counter()\n",
        "    result = fn(*args, **kwargs)\n",
        "    end = time.perf_counter()\n",
        "    elapsed = end-start\n",
        "    print(f'Run time: {elapsed}s')\n",
        "    return result\n",
        "  return inner"
      ],
      "execution_count": 13,
      "outputs": []
    },
    {
      "cell_type": "markdown",
      "metadata": {
        "id": "DPtOFj6H4STl"
      },
      "source": [
        "## Calculate using Namedtuple.\n",
        "\n",
        "Using namedtuple, calculate the largest blood type, mean-current_location, oldest_person_age, and average age."
      ]
    },
    {
      "cell_type": "code",
      "metadata": {
        "id": "dl19juBt34As"
      },
      "source": [
        "def get_age(birthdate):\n",
        "  date_today = datetime.date.today()\n",
        "  age = (date_today - birthdate).days\n",
        "  return(int(age/365))\n",
        "\n",
        "@timed\n",
        "def gen_profile_report_using_namedtuple() -> 'namedtuple':\n",
        "  '''\n",
        "  Generate the profile report which calcualtes the following:\n",
        "  1. largest blood type\n",
        "  2. mean current location\n",
        "  3. oldest person age\n",
        "  4. average age\n",
        "  '''\n",
        "  num_entries = 10000\n",
        "  profile_list = gen_profile_dataset(num_entries)\n",
        "  #\n",
        "  bg_dict = dict()\n",
        "  loc_total = [0,0]\n",
        "  old_age = 0\n",
        "  total_age = 0\n",
        "\n",
        "  # calculate\n",
        "  for profile in profile_list:\n",
        "     # blood group\n",
        "    if profile.blood_group not in bg_dict.keys():\n",
        "      bg_dict[profile.blood_group] = 1\n",
        "    else:\n",
        "      # found the blood group, inc count\n",
        "      bg_dict[profile.blood_group] = bg_dict[profile.blood_group] +1\n",
        "      \n",
        "    # location\n",
        "    loc_total[0] += profile.current_location[0]\n",
        "    loc_total[1] += profile.current_location[1]\n",
        "\n",
        "    # age\n",
        "    age = get_age(profile.birthdate)\n",
        "    if age > old_age:\n",
        "      old_age = age\n",
        "    total_age += age\n",
        "\n",
        "  #print(bg_dict)\n",
        "  # get the max based on count value\n",
        "  bg_l = max(bg_dict, key=bg_dict.get)\n",
        "  mean_location = (loc_total[0]/num_entries, loc_total[1]/num_entries)\n",
        "  #print(bg_l)\n",
        "  #print(f'Boold group {bg_l} is found {bg_dict[bg_l]} times.')\n",
        "  #print(f'mean location {mean_location}')\n",
        "  #print(f'old age is {old_age} years')\n",
        "  #print(f'aveage age is {total_age/num_entries}')\n",
        "  RESULT_DATA = namedtuple('RESULT_DATA', 'largest_blood_type mean_current_location oldest_person_age average_age')\n",
        "\n",
        "  return(RESULT_DATA(bg_l, mean_location, old_age, total_age/num_entries))"
      ],
      "execution_count": 14,
      "outputs": []
    },
    {
      "cell_type": "code",
      "metadata": {
        "colab": {
          "base_uri": "https://localhost:8080/"
        },
        "id": "EojDGbe7HWKF",
        "outputId": "35087fea-f105-43a0-9461-b48fa6312772"
      },
      "source": [
        "get_age(p[0].birthdate)"
      ],
      "execution_count": 15,
      "outputs": [
        {
          "output_type": "execute_result",
          "data": {
            "text/plain": [
              "10"
            ]
          },
          "metadata": {},
          "execution_count": 15
        }
      ]
    },
    {
      "cell_type": "code",
      "metadata": {
        "colab": {
          "base_uri": "https://localhost:8080/"
        },
        "id": "tijEgpyj9eRs",
        "outputId": "b9c8353e-7d89-4370-a991-dc79013423c8"
      },
      "source": [
        "result_profile_namedtuple = gen_profile_report_using_namedtuple()"
      ],
      "execution_count": 16,
      "outputs": [
        {
          "output_type": "stream",
          "name": "stdout",
          "text": [
            "Run time: 15.295810289999991s\n"
          ]
        }
      ]
    },
    {
      "cell_type": "code",
      "metadata": {
        "colab": {
          "base_uri": "https://localhost:8080/"
        },
        "id": "I_ImGImtMyiI",
        "outputId": "2c5e39d1-1ced-4078-84ed-ac70db11f084"
      },
      "source": [
        "result_profile_namedtuple"
      ],
      "execution_count": 17,
      "outputs": [
        {
          "output_type": "execute_result",
          "data": {
            "text/plain": [
              "RESULT_DATA(largest_blood_type='AB+', mean_current_location=(Decimal('-0.1800299253'), Decimal('1.3422391422')), oldest_person_age=116, average_age=58.022)"
            ]
          },
          "metadata": {},
          "execution_count": 17
        }
      ]
    },
    {
      "cell_type": "markdown",
      "metadata": {
        "id": "V307xrRZItQ0"
      },
      "source": [
        "## Tests for Profile using Namedtuple"
      ]
    },
    {
      "cell_type": "code",
      "metadata": {
        "id": "uzp_iYTQIw26"
      },
      "source": [
        ""
      ],
      "execution_count": 17,
      "outputs": []
    },
    {
      "cell_type": "code",
      "metadata": {
        "id": "Fwja-PtFBZpv"
      },
      "source": [
        "# profile using namedtuple\n",
        "\n",
        "def test_profile_uses_namedtuple(profile_ds) -> 'bool':\n",
        "  '''\n",
        "  Check whether the profile uses namedtuples.\n",
        "  '''\n",
        "  return(isinstance(profile_ds[0], tuple))\n",
        "\n",
        "def test_examine_result_for_namedtuple(result) -> 'bool':\n",
        "  '''\n",
        "  Check the result is in terms of namedtuple\n",
        "  '''\n",
        "  return(isinstance(result, tuple))\n",
        "\n",
        "def test_examine_result_for_fields(result) -> 'bool':\n",
        "  '''\n",
        "  Examine all the expected fields are in result.\n",
        "  '''\n",
        "  expected_fields = ['largest_blood_type', 'mean_current_location', 'oldest_person_age', 'average_age']\n",
        "  for field in result._fields:\n",
        "    if field not in expected_fields:\n",
        "      return False\n",
        "  return True\n",
        "\n",
        "\n",
        "def test_examine_oldest_person_age(result) -> 'bool':\n",
        "  '''\n",
        "  Examine oldest person age is greater than average age\n",
        "  '''\n",
        "  return(result.oldest_person_age > result.average_age)\n",
        "\n",
        "def test_examine_mean_current_location(result) -> 'bool':\n",
        "  '''\n",
        "  Examine mean current location has both lat and lng.\n",
        "  '''\n",
        "  return(len(result.mean_current_location) == 2)\n"
      ],
      "execution_count": 18,
      "outputs": []
    },
    {
      "cell_type": "code",
      "metadata": {
        "colab": {
          "base_uri": "https://localhost:8080/"
        },
        "id": "2pRR-eTYaPHK",
        "outputId": "88c86ac6-6003-4d8b-c27d-df6d29c9f06a"
      },
      "source": [
        "def run_test(fn) -> 'bool':\n",
        "  result = fn()\n",
        "  if result:\n",
        "    print(f'{fn.__doc__[0:-3]}:  PASSED')\n",
        "  else:\n",
        "    print(f'{fn.__doc__[0:-3]}:   FAILED')\n",
        "\n",
        "def run_test_with_arg(fn, *arg) -> 'bool':\n",
        "  result = fn(*arg)\n",
        "  if result:\n",
        "    print(f'{fn.__doc__[0:-3]}:  PASSED')\n",
        "  else:\n",
        "    print(f'{fn.__doc__[0:-3]}:   FAILED') \n",
        "  \n",
        "# Run profile tests\n",
        "profile_ds = gen_profile_dataset(2)\n",
        "run_test_with_arg(test_profile_uses_namedtuple, profile_ds)\n",
        "\n",
        "run_test_with_arg(test_examine_result_for_namedtuple, result_profile_namedtuple)\n",
        "run_test_with_arg(test_examine_result_for_fields, result_profile_namedtuple)\n",
        "run_test_with_arg(test_examine_oldest_person_age, result_profile_namedtuple)\n",
        "run_test_with_arg(test_examine_mean_current_location, result_profile_namedtuple)"
      ],
      "execution_count": 19,
      "outputs": [
        {
          "output_type": "stream",
          "name": "stdout",
          "text": [
            "\n",
            "  Check whether the profile uses namedtuples.:  PASSED\n",
            "\n",
            "  Check the result is in terms of namedtuple:  PASSED\n",
            "\n",
            "  Examine all the expected fields are in result.:  PASSED\n",
            "\n",
            "  Examine oldest person age is greater than average age:  PASSED\n",
            "\n",
            "  Examine mean current location has both lat and lng.:  PASSED\n"
          ]
        }
      ]
    },
    {
      "cell_type": "markdown",
      "metadata": {
        "id": "l3D2qqfNPuIv"
      },
      "source": [
        "## Using Dictionary"
      ]
    },
    {
      "cell_type": "code",
      "metadata": {
        "id": "ECy7TzFA-Icm"
      },
      "source": [
        "def gen_profile_dataset_using_dict(num_entries : int) -> 'dataset in dictionary':\n",
        "  '''\n",
        "  Generate the profile dataset. The size of the dataset depends on the\n",
        "  num_entries.\n",
        "\n",
        "  Input: num_entries\n",
        "  Output: dataset (list of profile in dictionary format)\n",
        "  '''\n",
        "  result = []\n",
        "  for cnt in range(num_entries):\n",
        "    result.append(fake.profile())\n",
        "  return result"
      ],
      "execution_count": 20,
      "outputs": []
    },
    {
      "cell_type": "code",
      "metadata": {
        "colab": {
          "base_uri": "https://localhost:8080/"
        },
        "id": "mjkpGBJKQU-a",
        "outputId": "66cd419d-2289-4f92-b1fb-97075719d6d1"
      },
      "source": [
        "gen_profile_dataset_using_dict(10)[0:2]"
      ],
      "execution_count": 21,
      "outputs": [
        {
          "output_type": "execute_result",
          "data": {
            "text/plain": [
              "[{'address': '748 Troy Club Apt. 869\\nRhondabury, CA 26588',\n",
              "  'birthdate': datetime.date(1935, 6, 13),\n",
              "  'blood_group': 'A+',\n",
              "  'company': 'Miller-Giles',\n",
              "  'current_location': (Decimal('45.1832285'), Decimal('76.857740')),\n",
              "  'job': 'Fitness centre manager',\n",
              "  'mail': 'davidhall@hotmail.com',\n",
              "  'name': 'Michael Knight',\n",
              "  'residence': '26666 Bailey Canyon Apt. 354\\nNovakview, OR 63739',\n",
              "  'sex': 'M',\n",
              "  'ssn': '692-98-8473',\n",
              "  'username': 'blackbenjamin',\n",
              "  'website': ['https://scott.biz/',\n",
              "   'https://wright-morris.org/',\n",
              "   'http://holt.com/',\n",
              "   'http://gomez-lopez.biz/']},\n",
              " {'address': '559 Martin Haven\\nCathytown, SC 99263',\n",
              "  'birthdate': datetime.date(1939, 10, 12),\n",
              "  'blood_group': 'AB-',\n",
              "  'company': 'Conley-Green',\n",
              "  'current_location': (Decimal('51.097154'), Decimal('4.993499')),\n",
              "  'job': 'Network engineer',\n",
              "  'mail': 'sphillips@gmail.com',\n",
              "  'name': 'Martha Gray',\n",
              "  'residence': '1224 Miller Parks\\nSamuelbury, NE 51118',\n",
              "  'sex': 'F',\n",
              "  'ssn': '419-73-5766',\n",
              "  'username': 'castromichael',\n",
              "  'website': ['http://smith.biz/',\n",
              "   'http://www.wheeler.com/',\n",
              "   'https://www.munoz-murray.com/']}]"
            ]
          },
          "metadata": {},
          "execution_count": 21
        }
      ]
    },
    {
      "cell_type": "code",
      "metadata": {
        "id": "MXNIOja_QZ4v"
      },
      "source": [
        "@timed\n",
        "def gen_profile_report_using_dictionary() -> 'dictionary':\n",
        "  '''\n",
        "  Generate the profile report which calcualtes the following:\n",
        "  1. largest blood type\n",
        "  2. mean current location\n",
        "  3. oldest person age\n",
        "  4. average age\n",
        "  '''\n",
        "  num_entries = 10000\n",
        "  profile_list = gen_profile_dataset_using_dict(num_entries)\n",
        "  #\n",
        "  bg_dict = dict()\n",
        "  loc_total = [0,0]\n",
        "  old_age = 0\n",
        "  total_age = 0\n",
        "\n",
        "  # calculate\n",
        "  for profile in profile_list:\n",
        "     # blood group\n",
        "    if profile['blood_group'] not in bg_dict.keys():\n",
        "      bg_dict[profile['blood_group']] = 1\n",
        "    else:\n",
        "      # found the blood group, inc count\n",
        "      bg_dict[profile['blood_group']] = bg_dict[profile['blood_group']] +1\n",
        "      \n",
        "    # location\n",
        "    loc_total[0] += profile['current_location'][0]\n",
        "    loc_total[1] += profile['current_location'][1]\n",
        "\n",
        "    # age\n",
        "    age = get_age(profile['birthdate'])\n",
        "    if age > old_age:\n",
        "      old_age = age\n",
        "    total_age += age\n",
        "\n",
        "  #print(bg_dict)\n",
        "  # get the max based on count value\n",
        "  bg_l = max(bg_dict, key=bg_dict.get)\n",
        "  mean_location = (loc_total[0]/num_entries, loc_total[1]/num_entries)\n",
        "  #print(bg_l)\n",
        "  #print(f'Boold group {bg_l} is found {bg_dict[bg_l]} times.')\n",
        "  #print(f'mean location {mean_location}')\n",
        "  #print(f'old age is {old_age} years')\n",
        "  #print(f'aveage age is {total_age/num_entries}')\n",
        "\n",
        "  result = dict()\n",
        "  result['largest_blood_type'] = bg_l\n",
        "  result['mean_current_location'] = mean_location\n",
        "  result['oldest_person_age'] = old_age\n",
        "  result['average_age'] = total_age/num_entries\n",
        "  return(result)"
      ],
      "execution_count": 22,
      "outputs": []
    },
    {
      "cell_type": "code",
      "metadata": {
        "colab": {
          "base_uri": "https://localhost:8080/"
        },
        "id": "ZxGFJHhjRS3d",
        "outputId": "1576e2c2-8c91-4c2e-d98e-333e804194fc"
      },
      "source": [
        "result_profile_dict = gen_profile_report_using_dictionary()"
      ],
      "execution_count": 23,
      "outputs": [
        {
          "output_type": "stream",
          "name": "stdout",
          "text": [
            "Run time: 15.21375188899998s\n"
          ]
        }
      ]
    },
    {
      "cell_type": "code",
      "metadata": {
        "colab": {
          "base_uri": "https://localhost:8080/"
        },
        "id": "4G-pxslWP-Vy",
        "outputId": "3f155390-9ef0-4b3a-ab45-ca43a2e9814e"
      },
      "source": [
        "result_profile_dict"
      ],
      "execution_count": 24,
      "outputs": [
        {
          "output_type": "execute_result",
          "data": {
            "text/plain": [
              "{'average_age': 58.0098,\n",
              " 'largest_blood_type': 'AB+',\n",
              " 'mean_current_location': (Decimal('-0.350939888'), Decimal('-0.0069503087')),\n",
              " 'oldest_person_age': 116}"
            ]
          },
          "metadata": {},
          "execution_count": 24
        }
      ]
    },
    {
      "cell_type": "markdown",
      "metadata": {
        "id": "MvwCiiYtOo2n"
      },
      "source": [
        "## Tests for Profile using dictionary"
      ]
    },
    {
      "cell_type": "code",
      "metadata": {
        "id": "u-TYuEIiOojX"
      },
      "source": [
        "def test_profile_uses_dict(ds) -> 'bool':\n",
        "  '''\n",
        "  Examine whether profile uses dictionary.\n",
        "  '''\n",
        "  return(type(ds[0]) == dict)\n",
        "\n",
        "def test_examine_result_for_dict(result) -> 'bool':\n",
        "  '''\n",
        "  Check the result is dictionary.\n",
        "  '''\n",
        "  return(type(result) == dict)\n",
        "\n",
        "def test_examine_result_dict_has_all_info(result) -> 'bool':\n",
        "  '''\n",
        "  Examine the result dictionary has all info.\n",
        "  '''\n",
        "  expected_keys = ['largest_blood_type', 'mean_current_location', 'oldest_person_age', 'average_age']\n",
        "  for k in result.keys():\n",
        "    if k not in expected_keys:\n",
        "      return False\n",
        "  return True\n",
        "\n",
        "def test_examine_oldest_person_age_dict(result) -> 'bool':\n",
        "  '''\n",
        "  Examine oldest person age is greater than average age\n",
        "  '''\n",
        "  return(result['oldest_person_age'] > result['average_age'])\n",
        "\n",
        "def test_examine_mean_current_location_dict(result) -> 'bool':\n",
        "  '''\n",
        "  Examine mean current location has both lat and lng.\n",
        "  '''\n",
        "  return(len(result['mean_current_location']) == 2)"
      ],
      "execution_count": 25,
      "outputs": []
    },
    {
      "cell_type": "code",
      "metadata": {
        "colab": {
          "base_uri": "https://localhost:8080/"
        },
        "id": "kYIR54VVPevV",
        "outputId": "74292e6f-9ed2-4993-8d43-999f1cbba978"
      },
      "source": [
        "ds = gen_profile_dataset_using_dict(2)\n",
        "run_test_with_arg(test_profile_uses_dict, ds)\n",
        "\n",
        "run_test_with_arg(test_examine_result_for_dict, result_profile_dict)\n",
        "run_test_with_arg(test_examine_result_dict_has_all_info, result_profile_dict)\n",
        "run_test_with_arg(test_examine_oldest_person_age_dict, result_profile_dict)\n",
        "run_test_with_arg(test_examine_mean_current_location_dict, result_profile_dict)"
      ],
      "execution_count": 26,
      "outputs": [
        {
          "output_type": "stream",
          "name": "stdout",
          "text": [
            "\n",
            "  Examine whether profile uses dictionary.:  PASSED\n",
            "\n",
            "  Check the result is dictionary.:  PASSED\n",
            "\n",
            "  Examine the result dictionary has all info.:  PASSED\n",
            "\n",
            "  Examine oldest person age is greater than average age:  PASSED\n",
            "\n",
            "  Examine mean current location has both lat and lng.:  PASSED\n"
          ]
        }
      ]
    },
    {
      "cell_type": "markdown",
      "metadata": {
        "id": "V3PyOlCIdcWc"
      },
      "source": [
        "## Stocks"
      ]
    },
    {
      "cell_type": "markdown",
      "metadata": {
        "id": "pG0afFHOdgHm"
      },
      "source": [
        "Create weighted stock index."
      ]
    },
    {
      "cell_type": "code",
      "metadata": {
        "colab": {
          "base_uri": "https://localhost:8080/"
        },
        "id": "a2U3GF7VRWav",
        "outputId": "39b0d9be-a48f-4b83-d8c2-32bb5b712641"
      },
      "source": [
        "for _ in range(5):\n",
        "  print(fake.company())"
      ],
      "execution_count": 27,
      "outputs": [
        {
          "output_type": "stream",
          "name": "stdout",
          "text": [
            "Johnson, Davis and Garcia\n",
            "Hughes-Miller\n",
            "Jones-Mclaughlin\n",
            "Burton Group\n",
            "White Ltd\n"
          ]
        }
      ]
    },
    {
      "cell_type": "code",
      "metadata": {
        "id": "23mK1TLkdu56"
      },
      "source": [
        "\n",
        "all_stock_ticker = []\n",
        "def get_stock_ticker(name):\n",
        "  '''\n",
        "  get the stock ticker based on company name\n",
        "  '''\n",
        "  ticker = ''.join(x for x in name if x.isupper())\n",
        "  if ticker not in all_stock_ticker:\n",
        "    all_stock_ticker.append(ticker)\n",
        "    return(ticker)\n",
        "\n",
        "  # if ticker exists, create new one by appending extra alphabet/number\n",
        "  for idx in range(2,10):\n",
        "    new_ticker = ticker + str(idx)\n",
        "    if new_ticker not in all_stock_ticker:\n",
        "      all_stock_ticker.append(new_ticker)\n",
        "      return(new_ticker)\n",
        "\n",
        "\n",
        "\n",
        "def stock_exchange(num_companies: int) -> 'list of company\\'s stock details':\n",
        "  '''\n",
        "  Create stock exchange with 100 companies.\n",
        "  '''\n",
        "  Stock = namedtuple('Stock', 'Name Symbol Open High Close CompanyWeight')\n",
        "  #num_companies = 100\n",
        "\n",
        "  all_companies = []\n",
        "  for _ in range(num_companies):\n",
        "    name = fake.company()\n",
        "    symbol = get_stock_ticker(name)\n",
        "    open = round(random.uniform(10, 1000), 2)\n",
        "\n",
        "    # make sure high is higher than open price\n",
        "    factor = round(random.uniform(0.6, 1.6), 2)\n",
        "    high = round(open * factor, 2) if factor > 1 else open\n",
        "\n",
        "    # determine the close price\n",
        "    # basically swing from open to high, also make sure high is always high.\n",
        "    close = random.uniform(open - random.randint(-10, 10), high - random.randint(-10, 10))\n",
        "    close = round(close, 2)\n",
        "    if close > high:\n",
        "      high = close\n",
        "\n",
        "    # usually weights are like 2.3 times ...\n",
        "    company_weight = round(random.uniform(0.1, 3.0), 1)\n",
        "\n",
        "    all_companies.append(Stock(Name=name, Symbol=symbol, Open=open, \n",
        "                               High=high, Close=close, CompanyWeight=company_weight))\n",
        "  \n",
        "  [print(x) for x in all_companies]\n",
        "\n",
        "  index_open = sum(x.Open * x.CompanyWeight for x in all_companies)\n",
        "  index_open = round(index_open, 2)\n",
        "\n",
        "  index_high = sum(x.High * x.CompanyWeight for x in all_companies)\n",
        "  index_high = round(index_high, 2)\n",
        "\n",
        "  index_close = sum(x.Close * x.CompanyWeight for x in all_companies)\n",
        "  index_close = round(index_close, 2)\n",
        "  print('-------------------------------------')\n",
        "  print(f'index open: {index_open}')\n",
        "  print(f'index high of day: {index_high}')\n",
        "  print(f'index at close: { index_close}')\n",
        "  return(all_companies)"
      ],
      "execution_count": 28,
      "outputs": []
    },
    {
      "cell_type": "code",
      "metadata": {
        "colab": {
          "base_uri": "https://localhost:8080/"
        },
        "id": "JoLRp7ysVKtC",
        "outputId": "600c2bc0-e068-4f46-b358-4419c67f9674"
      },
      "source": [
        "all_companies = stock_exchange(100)"
      ],
      "execution_count": 29,
      "outputs": [
        {
          "output_type": "stream",
          "name": "stdout",
          "text": [
            "Stock(Name='Johnson Ltd', Symbol='JL', Open=267.81, High=334.76, Close=295.96, CompanyWeight=2.3)\n",
            "Stock(Name='Simmons, Smith and Carter', Symbol='SSC', Open=792.01, High=792.01, Close=790.45, CompanyWeight=1.1)\n",
            "Stock(Name='Garcia, Gomez and Henderson', Symbol='GGH', Open=35.48, High=41.22, Close=41.22, CompanyWeight=0.4)\n",
            "Stock(Name='Chavez LLC', Symbol='CLLC', Open=907.83, High=1198.34, Close=947.31, CompanyWeight=2.4)\n",
            "Stock(Name='Johnson-Pugh', Symbol='JP', Open=900.07, High=1143.09, Close=933.57, CompanyWeight=1.2)\n",
            "Stock(Name='Jones-Kelley', Symbol='JK', Open=157.65, High=157.65, Close=151.17, CompanyWeight=1.6)\n",
            "Stock(Name='Perry Inc', Symbol='PI', Open=625.34, High=625.34, Close=617.39, CompanyWeight=1.7)\n",
            "Stock(Name='Lopez and Sons', Symbol='LS', Open=412.21, High=486.41, Close=449.05, CompanyWeight=1.2)\n",
            "Stock(Name='Thompson Inc', Symbol='TI', Open=782.09, High=785.75, Close=785.75, CompanyWeight=0.3)\n",
            "Stock(Name='Caldwell-Brown', Symbol='CB', Open=791.24, High=1226.42, Close=920.54, CompanyWeight=2.7)\n",
            "Stock(Name='Richardson-Gilbert', Symbol='RG', Open=828.48, High=838.41, Close=838.41, CompanyWeight=0.6)\n",
            "Stock(Name='Tapia Inc', Symbol='TI2', Open=705.9, High=707.2, Close=707.2, CompanyWeight=2.7)\n",
            "Stock(Name='Cole PLC', Symbol='CPLC', Open=792.24, High=792.24, Close=783.3, CompanyWeight=1.4)\n",
            "Stock(Name='Peters-Jordan', Symbol='PJ', Open=777.8, High=1112.25, Close=873.37, CompanyWeight=2.5)\n",
            "Stock(Name='Woods-Townsend', Symbol='WT', Open=869.81, High=872.4, Close=872.4, CompanyWeight=1.4)\n",
            "Stock(Name='Lopez, Perez and Williams', Symbol='LPW', Open=233.89, High=233.89, Close=226.26, CompanyWeight=0.7)\n",
            "Stock(Name='Peterson-Schaefer', Symbol='PS', Open=480.91, High=480.91, Close=480.05, CompanyWeight=1.1)\n",
            "Stock(Name='Stuart, Contreras and Garza', Symbol='SCG', Open=404.49, High=404.49, Close=402.88, CompanyWeight=1.4)\n",
            "Stock(Name='Fernandez, Robinson and Collins', Symbol='FRC', Open=502.51, High=509.56, Close=509.56, CompanyWeight=1.1)\n",
            "Stock(Name='Walters Inc', Symbol='WI', Open=966.13, High=967.8, Close=967.8, CompanyWeight=1.5)\n",
            "Stock(Name='Morales Inc', Symbol='MI', Open=199.25, High=199.25, Close=192.32, CompanyWeight=2.8)\n",
            "Stock(Name='Rose, Brown and Farley', Symbol='RBF', Open=517.09, High=822.17, Close=556.3, CompanyWeight=2.4)\n",
            "Stock(Name='Marshall PLC', Symbol='MPLC', Open=453.02, High=453.02, Close=449.19, CompanyWeight=1.5)\n",
            "Stock(Name='Cruz, Martinez and Lawson', Symbol='CML', Open=416.41, High=662.09, Close=526.22, CompanyWeight=0.6)\n",
            "Stock(Name='Richardson, Hooper and Daniels', Symbol='RHD', Open=776.53, High=1087.14, Close=935.35, CompanyWeight=1.3)\n",
            "Stock(Name='Stephenson-Wilkins', Symbol='SW', Open=725.88, High=732.03, Close=732.03, CompanyWeight=0.7)\n",
            "Stock(Name='Mcmillan LLC', Symbol='MLLC', Open=214.32, High=319.34, Close=310.03, CompanyWeight=1.6)\n",
            "Stock(Name='Davis, Day and Chavez', Symbol='DDC', Open=142.38, High=216.42, Close=152.36, CompanyWeight=2.6)\n",
            "Stock(Name='Martin Group', Symbol='MG', Open=570.52, High=787.32, Close=597.23, CompanyWeight=0.2)\n",
            "Stock(Name='Jimenez, Harris and Warren', Symbol='JHW', Open=987.96, High=987.96, Close=985.82, CompanyWeight=2.2)\n",
            "Stock(Name='Anderson-Mcmahon', Symbol='AM', Open=393.87, High=401.04, Close=401.04, CompanyWeight=0.7)\n",
            "Stock(Name='Fisher-Fields', Symbol='FF', Open=442.28, High=645.73, Close=557.87, CompanyWeight=2.8)\n",
            "Stock(Name='Weaver LLC', Symbol='WLLC', Open=329.89, High=330.65, Close=330.65, CompanyWeight=0.8)\n",
            "Stock(Name='Fox, Wilson and Roach', Symbol='FWR', Open=152.27, High=220.79, Close=211.51, CompanyWeight=2.4)\n",
            "Stock(Name='Nelson Ltd', Symbol='NL', Open=289.57, High=367.75, Close=359.2, CompanyWeight=0.6)\n",
            "Stock(Name='Mckay, Hart and Mcdonald', Symbol='MHM', Open=810.58, High=883.53, Close=863.86, CompanyWeight=1.4)\n",
            "Stock(Name='Cox PLC', Symbol='CPLC2', Open=441.65, High=468.15, Close=460.4, CompanyWeight=2.5)\n",
            "Stock(Name='Hobbs, Hill and Rhodes', Symbol='HHR', Open=89.09, High=94.09, Close=94.09, CompanyWeight=0.7)\n",
            "Stock(Name='Zuniga, White and Keller', Symbol='ZWK', Open=983.09, High=1095.27, Close=1095.27, CompanyWeight=2.6)\n",
            "Stock(Name='Parker-Thompson', Symbol='PT', Open=359.82, High=521.74, Close=359.7, CompanyWeight=0.2)\n",
            "Stock(Name='Ortiz, Phillips and Carter', Symbol='OPC', Open=891.62, High=891.62, Close=882.78, CompanyWeight=0.5)\n",
            "Stock(Name='Holmes, Griffith and Nguyen', Symbol='HGN', Open=11.36, High=13.12, Close=13.12, CompanyWeight=2.7)\n",
            "Stock(Name='Williamson, Torres and Martinez', Symbol='WTM', Open=971.68, High=1039.7, Close=1010.04, CompanyWeight=2.4)\n",
            "Stock(Name='Boyer-Watson', Symbol='BW', Open=570.53, High=821.56, Close=618.17, CompanyWeight=2.0)\n",
            "Stock(Name='Thomas-Vargas', Symbol='TV', Open=760.5, High=1110.33, Close=945.22, CompanyWeight=1.5)\n",
            "Stock(Name='Fry Ltd', Symbol='FL', Open=23.56, High=31.33, Close=27.82, CompanyWeight=1.1)\n",
            "Stock(Name='Ortiz, Gardner and Hess', Symbol='OGH', Open=736.34, High=824.7, Close=782.81, CompanyWeight=2.8)\n",
            "Stock(Name='Wilcox, Coleman and Smith', Symbol='WCS', Open=743.76, High=847.89, Close=768.98, CompanyWeight=1.0)\n",
            "Stock(Name='Bullock and Sons', Symbol='BS', Open=621.66, High=621.66, Close=615.58, CompanyWeight=0.5)\n",
            "Stock(Name='Bird, Ayala and Wilson', Symbol='BAW', Open=668.9, High=669.92, Close=669.92, CompanyWeight=1.1)\n",
            "Stock(Name='Jennings, Stewart and Webb', Symbol='JSW', Open=909.98, High=1055.58, Close=1055.15, CompanyWeight=1.1)\n",
            "Stock(Name='Yu Ltd', Symbol='YL', Open=387.97, High=397.62, Close=397.62, CompanyWeight=2.8)\n",
            "Stock(Name='Horn, Savage and Cox', Symbol='HSC', Open=978.87, High=1448.73, Close=1262.79, CompanyWeight=2.0)\n",
            "Stock(Name='Scott-Morgan', Symbol='SM', Open=10.83, High=14.3, Close=4.27, CompanyWeight=1.3)\n",
            "Stock(Name='Ferguson, Neal and Browning', Symbol='FNB', Open=631.73, High=640.7, Close=640.7, CompanyWeight=2.2)\n",
            "Stock(Name='Davis and Sons', Symbol='DS', Open=560.19, High=649.82, Close=592.44, CompanyWeight=2.4)\n",
            "Stock(Name='Lewis-Ibarra', Symbol='LI', Open=639.45, High=1010.33, Close=793.71, CompanyWeight=1.3)\n",
            "Stock(Name='Acosta Inc', Symbol='AI', Open=608.49, High=608.81, Close=608.81, CompanyWeight=1.2)\n",
            "Stock(Name='Martinez-Newton', Symbol='MN', Open=324.39, High=324.39, Close=318.27, CompanyWeight=2.1)\n",
            "Stock(Name='Miller-Hayes', Symbol='MH', Open=425.54, High=429.8, Close=428.8, CompanyWeight=2.5)\n",
            "Stock(Name='Ortiz, Harris and Wood', Symbol='OHW', Open=667.3, High=887.51, Close=664.79, CompanyWeight=1.2)\n",
            "Stock(Name='Cox, Medina and Galvan', Symbol='CMG', Open=751.26, High=856.44, Close=782.95, CompanyWeight=1.7)\n",
            "Stock(Name='Watkins Ltd', Symbol='WL', Open=491.06, High=633.47, Close=547.93, CompanyWeight=0.9)\n",
            "Stock(Name='Shelton LLC', Symbol='SLLC', Open=232.63, High=232.63, Close=229.86, CompanyWeight=2.6)\n",
            "Stock(Name='Rasmussen-Moore', Symbol='RM', Open=664.34, High=817.14, Close=815.06, CompanyWeight=0.7)\n",
            "Stock(Name='Boyd, Mercado and Hartman', Symbol='BMH', Open=445.6, High=446.77, Close=446.77, CompanyWeight=0.5)\n",
            "Stock(Name='Martin and Sons', Symbol='MS', Open=586.5, High=868.02, Close=721.56, CompanyWeight=2.5)\n",
            "Stock(Name='West PLC', Symbol='WPLC', Open=57.12, High=67.97, Close=65.07, CompanyWeight=1.2)\n",
            "Stock(Name='Flores-Hale', Symbol='FH', Open=633.69, High=931.52, Close=783.38, CompanyWeight=2.0)\n",
            "Stock(Name='Stephens, Freeman and Johnson', Symbol='SFJ', Open=901.17, High=901.17, Close=901.04, CompanyWeight=1.4)\n",
            "Stock(Name='Brady Ltd', Symbol='BL', Open=831.22, High=831.22, Close=828.29, CompanyWeight=1.7)\n",
            "Stock(Name='Luna-Chen', Symbol='LC', Open=547.62, High=870.72, Close=799.31, CompanyWeight=1.8)\n",
            "Stock(Name='Clayton and Sons', Symbol='CS', Open=432.94, High=432.94, Close=430.94, CompanyWeight=1.8)\n",
            "Stock(Name='Mendoza Ltd', Symbol='ML', Open=824.27, High=824.27, Close=819.66, CompanyWeight=2.5)\n",
            "Stock(Name='White PLC', Symbol='WPLC2', Open=217.49, High=217.49, Close=212.53, CompanyWeight=0.6)\n",
            "Stock(Name='Jones, Scott and Lamb', Symbol='JSL', Open=685.4, High=685.4, Close=677.4, CompanyWeight=0.2)\n",
            "Stock(Name='Parker, Jones and White', Symbol='PJW', Open=640.72, High=645.58, Close=645.58, CompanyWeight=0.3)\n",
            "Stock(Name='Johnson-Drake', Symbol='JD', Open=882.78, High=935.75, Close=899.52, CompanyWeight=0.5)\n",
            "Stock(Name='Young PLC', Symbol='YPLC', Open=351.55, High=356.73, Close=356.73, CompanyWeight=1.7)\n",
            "Stock(Name='Strong Ltd', Symbol='SL', Open=417.73, High=420.43, Close=420.43, CompanyWeight=0.9)\n",
            "Stock(Name='Norris, Williams and Cooper', Symbol='NWC', Open=106.75, High=139.84, Close=129.94, CompanyWeight=2.9)\n",
            "Stock(Name='Perez, Miller and Gibson', Symbol='PMG', Open=157.37, High=207.73, Close=169.69, CompanyWeight=2.8)\n",
            "Stock(Name='Ball and Sons', Symbol='BS2', Open=424.74, High=632.86, Close=611.14, CompanyWeight=0.9)\n",
            "Stock(Name='Ramirez and Sons', Symbol='RS', Open=551.28, High=551.28, Close=545.43, CompanyWeight=2.5)\n",
            "Stock(Name='Gibbs-Smith', Symbol='GS', Open=240.83, High=320.3, Close=296.06, CompanyWeight=2.3)\n",
            "Stock(Name='Jones Ltd', Symbol='JL2', Open=201.29, High=201.29, Close=192.74, CompanyWeight=2.9)\n",
            "Stock(Name='Lane PLC', Symbol='LPLC', Open=906.33, High=1132.91, Close=1097.75, CompanyWeight=1.8)\n",
            "Stock(Name='Moreno Ltd', Symbol='ML2', Open=142.15, High=142.15, Close=140.37, CompanyWeight=1.4)\n",
            "Stock(Name='Woodard-Thompson', Symbol='WT2', Open=123.63, High=135.99, Close=127.58, CompanyWeight=2.9)\n",
            "Stock(Name='Lane-Brown', Symbol='LB', Open=498.69, High=518.64, Close=499.66, CompanyWeight=1.1)\n",
            "Stock(Name='Benitez, Moore and Hughes', Symbol='BMH2', Open=425.54, High=427.77, Close=427.77, CompanyWeight=1.0)\n",
            "Stock(Name='Nguyen, Castillo and Silva', Symbol='NCS', Open=910.26, High=1137.83, Close=1133.96, CompanyWeight=0.4)\n",
            "Stock(Name='Randolph LLC', Symbol='RLLC', Open=279.98, High=377.97, Close=302.43, CompanyWeight=2.8)\n",
            "Stock(Name='Riddle LLC', Symbol='RLLC2', Open=658.9, High=662.72, Close=662.72, CompanyWeight=2.9)\n",
            "Stock(Name='Walker, Hines and Tucker', Symbol='WHT', Open=871.69, High=941.43, Close=911.46, CompanyWeight=1.7)\n",
            "Stock(Name='Henry-Fisher', Symbol='HF', Open=927.8, High=927.8, Close=923.09, CompanyWeight=1.3)\n",
            "Stock(Name='Shelton-Peterson', Symbol='SP', Open=180.29, High=254.21, Close=181.77, CompanyWeight=0.7)\n",
            "Stock(Name='Herring-Morris', Symbol='HM', Open=179.22, High=243.74, Close=223.06, CompanyWeight=1.6)\n",
            "Stock(Name='Stewart, Thomas and Wells', Symbol='STW', Open=767.8, High=767.8, Close=765.68, CompanyWeight=0.7)\n",
            "Stock(Name='White, Simmons and Ryan', Symbol='WSR', Open=34.09, High=53.18, Close=41.52, CompanyWeight=2.8)\n",
            "-------------------------------------\n",
            "index open: 81031.9\n",
            "index high of day: 95081.65\n",
            "index at close: 87287.42\n"
          ]
        }
      ]
    },
    {
      "cell_type": "markdown",
      "metadata": {
        "id": "T0Bt3io2SsHK"
      },
      "source": [
        "## Tests"
      ]
    },
    {
      "cell_type": "markdown",
      "metadata": {
        "id": "qFTQUHQJAXg4"
      },
      "source": [
        "### Tests related to profiles (from Faker library)."
      ]
    },
    {
      "cell_type": "code",
      "metadata": {
        "colab": {
          "base_uri": "https://localhost:8080/"
        },
        "id": "sycGXYcYFD8Z",
        "outputId": "581acfb8-1851-4c45-ded7-e9d9582adaf5"
      },
      "source": [
        "result_profile_namedtuple"
      ],
      "execution_count": 30,
      "outputs": [
        {
          "output_type": "execute_result",
          "data": {
            "text/plain": [
              "RESULT_DATA(largest_blood_type='AB+', mean_current_location=(Decimal('-0.1800299253'), Decimal('1.3422391422')), oldest_person_age=116, average_age=58.022)"
            ]
          },
          "metadata": {},
          "execution_count": 30
        }
      ]
    },
    {
      "cell_type": "markdown",
      "metadata": {
        "id": "IvO1oCFjTePK"
      },
      "source": [
        "### Tests related to stock exchange"
      ]
    },
    {
      "cell_type": "code",
      "metadata": {
        "colab": {
          "base_uri": "https://localhost:8080/"
        },
        "id": "cNxTy0BXj6D_",
        "outputId": "b2d6056c-cdc9-4089-97ed-cae03377939e"
      },
      "source": [
        "a = type(all_companies[0])\n",
        "print(a)\n",
        "a.__bases__"
      ],
      "execution_count": 31,
      "outputs": [
        {
          "output_type": "stream",
          "name": "stdout",
          "text": [
            "<class '__main__.Stock'>\n"
          ]
        },
        {
          "output_type": "execute_result",
          "data": {
            "text/plain": [
              "(tuple,)"
            ]
          },
          "metadata": {},
          "execution_count": 31
        }
      ]
    },
    {
      "cell_type": "code",
      "metadata": {
        "colab": {
          "base_uri": "https://localhost:8080/"
        },
        "id": "Xa29QdrZkv7Y",
        "outputId": "01e704c7-13ed-40cd-9386-e932d44dad19"
      },
      "source": [
        "isinstance(all_companies[0], tuple)"
      ],
      "execution_count": 32,
      "outputs": [
        {
          "output_type": "execute_result",
          "data": {
            "text/plain": [
              "True"
            ]
          },
          "metadata": {},
          "execution_count": 32
        }
      ]
    },
    {
      "cell_type": "code",
      "metadata": {
        "id": "zsuYjKaklSBR"
      },
      "source": [
        "def test_does_doc_string_exist(func) -> 'bool':\n",
        "  '''\n",
        "  Check whether doc string exists or not.\n",
        "  '''\n",
        "  if len(func.__doc__) == 0:\n",
        "    return False\n",
        "  return True\n",
        "\n",
        "def test_uses_namedtuples(all_companies) -> 'bool':\n",
        "  '''\n",
        "  Check whether Stock uses namedtuple.\n",
        "  '''\n",
        "  return(isinstance(all_companies[0], tuple))\n",
        "\n",
        "def test_check_num_companies(all_companies) -> 'bool':\n",
        "  '''\n",
        "  Check whether atleast 100 companies are listed in the exchange.\n",
        "  '''\n",
        "  return(len(all_companies) >= 100)\n",
        "\n",
        "def test_check_namedtuple_complete(all_companies) -> 'bool':\n",
        "  '''\n",
        "  Check the stock namedtuple for all fields.\n",
        "  '''\n",
        "  #test_name = 'Check the stock namedtuple for all fields'\n",
        "  fields = ['Name', 'Symbol', 'Open', 'High', 'Close']\n",
        "  tup_fields = all_companies[0]._fields\n",
        "\n",
        "  for f in fields:\n",
        "    if f not in tup_fields:\n",
        "      return False\n",
        "  return True\n",
        "\n",
        "def test_is_company_name_unique(all_companies) -> 'bool':\n",
        "  '''\n",
        "  Check whether company name is unique.\n",
        "  '''\n",
        "  companies = [stock.Name for stock in all_companies]\n",
        "  return(len(companies) == len(set(companies)))\n",
        "\n",
        "def test_is_ticker_symbol_unique(all_companies) -> 'bool':\n",
        "  '''\n",
        "  Check whether the ticker is unique.\n",
        "  '''\n",
        "  ticker_list = [stock.Symbol for stock in all_companies]\n",
        "  #print(ticker_list)\n",
        "  if len(ticker_list) != len(set(ticker_list)):\n",
        "    return False\n",
        "  else:\n",
        "    return True\n",
        "\n",
        "def test_is_high_ge_open(all_companies) -> 'bool':\n",
        "  '''\n",
        "  Check whether the high price is greater than or equal to the open price.\n",
        "  '''\n",
        "  for stock in all_companies:\n",
        "    if stock.High < stock.Open:\n",
        "      return False\n",
        "  return True\n",
        "\n",
        "def test_is_high_ge_close(all_companies) -> 'bool':\n",
        "  '''\n",
        "  Check whether high price is greater than or equal to close price.\n",
        "  '''\n",
        "  for stock in all_companies:\n",
        "    if stock.High < stock.Close:\n",
        "      return False\n",
        "  return True\n",
        "\n",
        "def test_is_weight_positive(all_companies) -> 'bool':\n",
        "  '''\n",
        "  Check company's weight for positive value.\n",
        "  '''\n",
        "  for stock in all_companies:\n",
        "    if stock.CompanyWeight < 0:\n",
        "      return False\n",
        "  return True\n",
        "\n",
        "def test_high_index_gt_open_index(all_companies) -> 'bool':\n",
        "  '''\n",
        "  Check weighted high stock index is >= to open stock index.\n",
        "  '''\n",
        "  open_index = sum([stock.Open * stock.CompanyWeight for stock in all_companies])\n",
        "  high_index = sum([stock.High * stock.CompanyWeight for stock in all_companies])\n",
        "  if int(high_index) < int(open_index):\n",
        "    return False\n",
        "  return True\n",
        "\n",
        "def test_high_index_gt_close_index(all_companies) -> 'bool':\n",
        "  '''\n",
        "  Check weighted high stock index is >= close stock index\n",
        "  '''\n",
        "  close_index = sum([stock.Close * stock.CompanyWeight for stock in all_companies])\n",
        "  high_index = sum([stock.High * stock.CompanyWeight for stock in all_companies])\n",
        "\n",
        "  if int(high_index) < int(close_index):\n",
        "    return False\n",
        "  return True"
      ],
      "execution_count": 33,
      "outputs": []
    },
    {
      "cell_type": "code",
      "metadata": {
        "colab": {
          "base_uri": "https://localhost:8080/"
        },
        "id": "yczo6bPfZ8_f",
        "outputId": "7ff33264-f726-4151-d1ad-6d143ff538a0"
      },
      "source": [
        "stock_tests = [test_uses_namedtuples,\n",
        "               test_check_num_companies,\n",
        "               test_check_namedtuple_complete,\n",
        "               test_is_company_name_unique,\n",
        "               test_is_ticker_symbol_unique,\n",
        "               test_is_high_ge_open,\n",
        "               test_is_high_ge_close,\n",
        "               test_is_weight_positive,\n",
        "               test_high_index_gt_open_index,\n",
        "               test_high_index_gt_close_index\n",
        "               ]\n",
        "\n",
        "def run_stock_test(test_name_func):\n",
        "  func = test_name_func\n",
        "  if func(all_companies):\n",
        "    print(f'{func.__doc__[0:-3]}  :  PASSED')\n",
        "  else:\n",
        "    print(f'{func.__doc__[0:-3]}   : FAILED')\n",
        "\n",
        "# Run the tests...\n",
        "for test_name in stock_tests:\n",
        "  run_stock_test(test_name)"
      ],
      "execution_count": 34,
      "outputs": [
        {
          "output_type": "stream",
          "name": "stdout",
          "text": [
            "\n",
            "  Check whether Stock uses namedtuple.  :  PASSED\n",
            "\n",
            "  Check whether atleast 100 companies are listed in the exchange.  :  PASSED\n",
            "\n",
            "  Check the stock namedtuple for all fields.  :  PASSED\n",
            "\n",
            "  Check whether company name is unique.  :  PASSED\n",
            "\n",
            "  Check whether the ticker is unique.  :  PASSED\n",
            "\n",
            "  Check whether the high price is greater than or equal to the open price.  :  PASSED\n",
            "\n",
            "  Check whether high price is greater than or equal to close price.  :  PASSED\n",
            "\n",
            "  Check company's weight for positive value.  :  PASSED\n",
            "\n",
            "  Check weighted high stock index is >= to open stock index.  :  PASSED\n",
            "\n",
            "  Check weighted high stock index is >= close stock index  :  PASSED\n"
          ]
        }
      ]
    },
    {
      "cell_type": "code",
      "metadata": {
        "id": "Timf7-NqDGd7"
      },
      "source": [
        ""
      ],
      "execution_count": 34,
      "outputs": []
    }
  ]
}